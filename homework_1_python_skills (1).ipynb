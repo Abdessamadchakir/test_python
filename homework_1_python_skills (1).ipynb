{
  "nbformat": 4,
  "nbformat_minor": 0,
  "metadata": {
    "colab": {
      "name": "homework_1_python_skills.ipynb",
      "version": "0.3.2",
      "provenance": [],
      "collapsed_sections": []
    },
    "kernelspec": {
      "display_name": "Python 3",
      "language": "python",
      "name": "python3"
    }
  },
  "cells": [
    {
      "metadata": {
        "id": "NIva0j7cUWQP",
        "colab_type": "text"
      },
      "cell_type": "markdown",
      "source": [
        "Before you turn this problem in, make sure everything runs as expected. First, **restart the kernel** (in the menubar, select Kernel$\\rightarrow$Restart) and then **run all cells** (in the menubar, select Cell$\\rightarrow$Run All).\n",
        "\n",
        "Make sure you fill in any place that says `YOUR CODE HERE` or \"YOUR ANSWER HERE\", as well as your name and collaborators below:"
      ]
    },
    {
      "metadata": {
        "id": "YWV_AHD_UWQe",
        "colab_type": "text"
      },
      "cell_type": "markdown",
      "source": [
        "---"
      ]
    },
    {
      "metadata": {
        "deletable": false,
        "editable": false,
        "nbgrader": {
          "checksum": "c06998fac8bb5ce0616b1a4e9f83f3c1",
          "grade": false,
          "grade_id": "cell-90e71a34be5a3e42",
          "locked": true,
          "schema_version": 1,
          "solution": false
        },
        "id": "pSNGxrnKUWQh",
        "colab_type": "text"
      },
      "cell_type": "markdown",
      "source": [
        "# Homework 1: Python skills\n",
        "\n",
        "This homework exercise is meant to acclimate students with working knowledge of Python's syntax. Neither the course nor this exercise is intented to teach Python in a Computer Science studies context. Please also complete the intro_to_pandas notebook at the following link. Students are highly encouraged to take a look at ALL of notebooks here, though only the intro_to_pandas notebook is mandatory.\n",
        "\n",
        "https://github.com/DeltaAnalytics/machine_learning_for_good/tree/master/module_1_introduction\n",
        "\n",
        "The functions in this file are imcomplete, but have documentation strings that explain how they should work. Your job is to edit this file to write the bodies of these functions. You may use Google you look up strategies to complete the functions, but you may not copy and paste answers from the internet."
      ]
    },
    {
      "metadata": {
        "deletable": false,
        "editable": false,
        "nbgrader": {
          "checksum": "037960639731cab028030c076de0ecba",
          "grade": false,
          "grade_id": "cell-d6e78740d766825e",
          "locked": true,
          "schema_version": 1,
          "solution": false
        },
        "id": "mrbhcq9eUWQk",
        "colab_type": "text"
      },
      "cell_type": "markdown",
      "source": [
        "### Basic operations\n",
        "\n",
        "You should be able to complete this portion of the homework with basic integer, float, and string operations in Python. Note that the number_list and word_list variables referenced throughout are [-5, 6, 4, 8, 15, 16, 23, 42, 2, 7] and [ \"What\", \"about\", \"the\", \"Spam\", \"sausage\", \"spam\", \"spam\", \"bacon\", \"spam\", \"tomato\", \"and\", \"spam\"] respectively."
      ]
    },
    {
      "metadata": {
        "deletable": false,
        "nbgrader": {
          "checksum": "d1853ff74dc88a4750aab52e8a0713e0",
          "grade": false,
          "grade_id": "cell-718e69e9a854221e",
          "locked": false,
          "schema_version": 1,
          "solution": true
        },
        "id": "vnpG23E4UWQo",
        "colab_type": "code",
        "outputId": "cbde10ec-213e-4d8d-f3bb-ea3ff6473b36",
        "colab": {
          "base_uri": "https://localhost:8080/",
          "height": 34
        }
      },
      "cell_type": "code",
      "source": [
        "\n",
        "# YOUR CODE HERE\n",
        "def all_odd(number_list):\n",
        "    odd_list=list()\n",
        "    for i in number_list:\n",
        "        if (i%2) != 0:\n",
        "            odd_list.append(i)\n",
        "    print(odd_list)\n",
        "                            \n",
        "\n",
        "number_list=[7,6,8,7,99]\n",
        "all_odd(number_list)"
      ],
      "execution_count": 0,
      "outputs": [
        {
          "output_type": "stream",
          "text": [
            "[7, 7, 99]\n"
          ],
          "name": "stdout"
        }
      ]
    },
    {
      "metadata": {
        "deletable": false,
        "editable": false,
        "nbgrader": {
          "checksum": "e800b19cf9ba768dbd5829d789b73bdb",
          "grade": true,
          "grade_id": "cell-a201a353f244090a",
          "locked": true,
          "points": 1,
          "schema_version": 1,
          "solution": false
        },
        "id": "EBOa1K8TUWQx",
        "colab_type": "code",
        "colab": {}
      },
      "cell_type": "code",
      "source": [
        "####################################INTENTIONALLY BLANK FOR TESTING####################################"
      ],
      "execution_count": 0,
      "outputs": []
    },
    {
      "metadata": {
        "deletable": false,
        "nbgrader": {
          "checksum": "f74af409f44ee1a120c473da0231d223",
          "grade": false,
          "grade_id": "cell-0e6c6d55d47a9753",
          "locked": false,
          "schema_version": 1,
          "solution": true
        },
        "id": "VRfO5JBkUWQ6",
        "colab_type": "code",
        "outputId": "4bee6bab-2ee1-4763-83c0-04578911a566",
        "colab": {
          "base_uri": "https://localhost:8080/",
          "height": 34
        }
      },
      "cell_type": "code",
      "source": [
        "\n",
        "# YOUR CODE HERE\n",
        "def all_even(number_list):\n",
        "    even_list=list()\n",
        "    for number in number_list:\n",
        "        if(number%2)==0:\n",
        "            even_list.append(number)\n",
        "    print(even_list)  \n",
        "    \n",
        "number_list=[7,1,4,7,8,22]\n",
        "all_even(number_list)"
      ],
      "execution_count": 0,
      "outputs": [
        {
          "output_type": "stream",
          "text": [
            "[4, 8, 22]\n"
          ],
          "name": "stdout"
        }
      ]
    },
    {
      "metadata": {
        "deletable": false,
        "editable": false,
        "nbgrader": {
          "checksum": "0d4beb1fe2bb80f6a79e80bb4b1ff097",
          "grade": true,
          "grade_id": "cell-d3624440658f0ac4",
          "locked": true,
          "points": 1,
          "schema_version": 1,
          "solution": false
        },
        "id": "U6cUjFk2UWRE",
        "colab_type": "code",
        "colab": {}
      },
      "cell_type": "code",
      "source": [
        "####################################INTENTIONALLY BLANK FOR TESTING####################################"
      ],
      "execution_count": 0,
      "outputs": []
    },
    {
      "metadata": {
        "deletable": false,
        "nbgrader": {
          "checksum": "4040250fbc6c80febeb37931b7379b95",
          "grade": false,
          "grade_id": "cell-5fab3ee35e502b3d",
          "locked": false,
          "schema_version": 1,
          "solution": true
        },
        "id": "GOdET39bUWRM",
        "colab_type": "code",
        "outputId": "4a3f7620-35ac-43b9-f8be-be0f9ea2633f",
        "colab": {
          "base_uri": "https://localhost:8080/",
          "height": 34
        }
      },
      "cell_type": "code",
      "source": [
        "\n",
        "# YOUR CODE HERE\n",
        "def long_words(word_list):\n",
        "    long_list=list()\n",
        "    for word in word_list:\n",
        "        if (len(word)>=4):\n",
        "            long_list.append(word)\n",
        "    print(long_list)\n",
        "    \n",
        "word_list=[\"What\",\"about\",\"the\",\"Spam\",\"sausage\",\"spam\",\"spaam\",\"bacon\",\"spam\",\"tomato\",\"and\",\"spam\"]\n",
        "long_words(word_list)"
      ],
      "execution_count": 0,
      "outputs": [
        {
          "output_type": "stream",
          "text": [
            "['What', 'about', 'Spam', 'sausage', 'spam', 'spaam', 'bacon', 'spam', 'tomato', 'spam']\n"
          ],
          "name": "stdout"
        }
      ]
    },
    {
      "metadata": {
        "deletable": false,
        "editable": false,
        "nbgrader": {
          "checksum": "c3254c291c5e4228f802b8d3b59ece12",
          "grade": true,
          "grade_id": "cell-082fff19b482225f",
          "locked": true,
          "points": 1,
          "schema_version": 1,
          "solution": false
        },
        "id": "V6awjyXEUWRU",
        "colab_type": "code",
        "colab": {}
      },
      "cell_type": "code",
      "source": [
        "####################################INTENTIONALLY BLANK FOR TESTING####################################"
      ],
      "execution_count": 0,
      "outputs": []
    },
    {
      "metadata": {
        "deletable": false,
        "nbgrader": {
          "checksum": "76d3f4a350215bec1235a2f195d2cce1",
          "grade": false,
          "grade_id": "cell-32db7423da00a68e",
          "locked": false,
          "schema_version": 1,
          "solution": true
        },
        "id": "NZZYqd3PUWRd",
        "colab_type": "code",
        "outputId": "7868a0c5-8952-48d0-e213-74546e0347a0",
        "colab": {
          "base_uri": "https://localhost:8080/",
          "height": 34
        }
      },
      "cell_type": "code",
      "source": [
        "\n",
        "   \n",
        "# YOUR CODE HERE\n",
        "def smallest(number_list):\n",
        "    small=number_list[0]\n",
        "    for number in number_list:\n",
        "        if number<small:\n",
        "            small=number\n",
        "    print (small)\n",
        "\n",
        "number_list=[1,4,3,-15,-22]\n",
        "smallest(number_list)"
      ],
      "execution_count": 0,
      "outputs": [
        {
          "output_type": "stream",
          "text": [
            "-22\n"
          ],
          "name": "stdout"
        }
      ]
    },
    {
      "metadata": {
        "deletable": false,
        "editable": false,
        "nbgrader": {
          "checksum": "565d996606e674805556f3f65fbabd6c",
          "grade": true,
          "grade_id": "cell-6cd34bada909a524",
          "locked": true,
          "points": 1,
          "schema_version": 1,
          "solution": false
        },
        "id": "iAvTKv2BUWRu",
        "colab_type": "code",
        "colab": {}
      },
      "cell_type": "code",
      "source": [
        "####################################INTENTIONALLY BLANK FOR TESTING####################################"
      ],
      "execution_count": 0,
      "outputs": []
    },
    {
      "metadata": {
        "deletable": false,
        "nbgrader": {
          "checksum": "3b6c393b0be8d01442cef820d5c665eb",
          "grade": false,
          "grade_id": "cell-760de9b0347515be",
          "locked": false,
          "schema_version": 1,
          "solution": true
        },
        "id": "Qds6_ZehUWR2",
        "colab_type": "code",
        "outputId": "0cc7b6e9-59f1-4a21-e25a-cbd857daace2",
        "colab": {
          "base_uri": "https://localhost:8080/",
          "height": 34
        }
      },
      "cell_type": "code",
      "source": [
        "\n",
        "# YOUR CODE HERE\n",
        "def largest(number_list):\n",
        "    large=number_list[0]\n",
        "    for number in number_list:\n",
        "        if (number>large):\n",
        "            large=number\n",
        "    print (large)\n",
        "\n",
        "number_list=[1,4,3,-15,-22]\n",
        "largest(number_list)\n",
        "    "
      ],
      "execution_count": 0,
      "outputs": [
        {
          "output_type": "stream",
          "text": [
            "4\n"
          ],
          "name": "stdout"
        }
      ]
    },
    {
      "metadata": {
        "deletable": false,
        "editable": false,
        "nbgrader": {
          "checksum": "3bc84a7eed5b42e2c9071ef83fe7d971",
          "grade": true,
          "grade_id": "cell-80c372b240567d51",
          "locked": true,
          "points": 1,
          "schema_version": 1,
          "solution": false
        },
        "id": "FusmDCT_UWR_",
        "colab_type": "code",
        "colab": {}
      },
      "cell_type": "code",
      "source": [
        "####################################INTENTIONALLY BLANK FOR TESTING####################################"
      ],
      "execution_count": 0,
      "outputs": []
    },
    {
      "metadata": {
        "deletable": false,
        "nbgrader": {
          "checksum": "42dd856f3eab69ddaf2e17239546a0ef",
          "grade": false,
          "grade_id": "cell-3a91fc78f968a4fc",
          "locked": false,
          "schema_version": 1,
          "solution": true
        },
        "id": "WyjmRjGXUWSH",
        "colab_type": "code",
        "outputId": "48bdf02a-ce38-404a-a9cb-a1d10e30fd4d",
        "colab": {
          "base_uri": "https://localhost:8080/",
          "height": 34
        }
      },
      "cell_type": "code",
      "source": [
        "def halvesies(number_list):\n",
        "    halve_list=list()\n",
        "    for number in number_list:\n",
        "        halve_list.append(number/2)\n",
        "    print(halve_list)\n",
        "\n",
        "halvesies(number_list)  "
      ],
      "execution_count": 0,
      "outputs": [
        {
          "output_type": "stream",
          "text": [
            "[0.5, 2.0, 1.5, -7.5, -11.0]\n"
          ],
          "name": "stdout"
        }
      ]
    },
    {
      "metadata": {
        "deletable": false,
        "editable": false,
        "nbgrader": {
          "checksum": "70356c1104126d2b1a18012cdd68777a",
          "grade": true,
          "grade_id": "cell-e92d15aa2d302876",
          "locked": true,
          "points": 1,
          "schema_version": 1,
          "solution": false
        },
        "id": "E8epqgv9UWSS",
        "colab_type": "code",
        "colab": {}
      },
      "cell_type": "code",
      "source": [
        "####################################INTENTIONALLY BLANK FOR TESTING####################################"
      ],
      "execution_count": 0,
      "outputs": []
    },
    {
      "metadata": {
        "deletable": false,
        "nbgrader": {
          "checksum": "c753fe75da347f6af56b129840075c68",
          "grade": false,
          "grade_id": "cell-c2b1ee18b787e16a",
          "locked": false,
          "schema_version": 1,
          "solution": true
        },
        "id": "KhAidKovUWSe",
        "colab_type": "code",
        "colab": {}
      },
      "cell_type": "code",
      "source": [
        "word_list=['hi','hello']\n",
        "def word_lengths(word_list):\n",
        "  \n",
        "  words_len=[]\n",
        "  \n",
        "  for word in word_list:\n",
        "    \n",
        "    words_len.append(len(word))\n",
        "    \n",
        "        \n",
        "  print(words_len)\n",
        "    "
      ],
      "execution_count": 0,
      "outputs": []
    },
    {
      "metadata": {
        "deletable": false,
        "editable": false,
        "nbgrader": {
          "checksum": "a3388481ad14ae6be229b28425e9fee8",
          "grade": true,
          "grade_id": "cell-f7cd47b24d9d3cae",
          "locked": true,
          "points": 1,
          "schema_version": 1,
          "solution": false
        },
        "id": "13QxxZL2UWSp",
        "colab_type": "code",
        "outputId": "8370e5f6-cc2e-4fb9-af95-cab845775da3",
        "colab": {
          "base_uri": "https://localhost:8080/",
          "height": 34
        }
      },
      "cell_type": "code",
      "source": [
        "word_lengths(word_list)"
      ],
      "execution_count": 0,
      "outputs": [
        {
          "output_type": "stream",
          "text": [
            "[2, 5]\n"
          ],
          "name": "stdout"
        }
      ]
    },
    {
      "metadata": {
        "deletable": false,
        "nbgrader": {
          "checksum": "99793bda33aabd6e2d45188e2fa8e1c9",
          "grade": false,
          "grade_id": "cell-30d627981a261d27",
          "locked": false,
          "schema_version": 1,
          "solution": true
        },
        "id": "5po8YlCHUWSx",
        "colab_type": "code",
        "outputId": "70edf7cd-ec50-45ef-e3a5-e7d44929c2fb",
        "colab": {
          "base_uri": "https://localhost:8080/",
          "height": 34
        }
      },
      "cell_type": "code",
      "source": [
        "def sum_numbers(number_list):\n",
        "    sum=0\n",
        "    for i in number_list:\n",
        "      sum+=i\n",
        "    print(sum)     \n",
        "number_list=[1,2,7,8]\n",
        "sum_numbers(number_list)"
      ],
      "execution_count": 0,
      "outputs": [
        {
          "output_type": "stream",
          "text": [
            "18\n"
          ],
          "name": "stdout"
        }
      ]
    },
    {
      "metadata": {
        "deletable": false,
        "editable": false,
        "nbgrader": {
          "checksum": "0306d6a18b8ffa7d1f7a67af7a2e4892",
          "grade": true,
          "grade_id": "cell-3116d2183245df78",
          "locked": true,
          "points": 1,
          "schema_version": 1,
          "solution": false
        },
        "id": "ZX4MUtpVUWS5",
        "colab_type": "code",
        "colab": {}
      },
      "cell_type": "code",
      "source": [
        "####################################INTENTIONALLY BLANK FOR TESTING####################################"
      ],
      "execution_count": 0,
      "outputs": []
    },
    {
      "metadata": {
        "deletable": false,
        "nbgrader": {
          "checksum": "875b9b0b8606281a993f0b6e9abe2056",
          "grade": false,
          "grade_id": "cell-bde13ae8e6e08a27",
          "locked": false,
          "schema_version": 1,
          "solution": true
        },
        "id": "n2lGcTrEUWTB",
        "colab_type": "code",
        "outputId": "00bd29fa-d3d7-409b-9607-8565e4e5e945",
        "colab": {
          "base_uri": "https://localhost:8080/",
          "height": 34
        }
      },
      "cell_type": "code",
      "source": [
        "def mult_numbers(number_list):\n",
        "    mul=1\n",
        "    for i in number_list:\n",
        "        mul*=i\n",
        "    print(mul) \n",
        "    \n",
        "number_list=[1,2,3,-14] \n",
        "mult_numbers(number_list)"
      ],
      "execution_count": 0,
      "outputs": [
        {
          "output_type": "stream",
          "text": [
            "-84\n"
          ],
          "name": "stdout"
        }
      ]
    },
    {
      "metadata": {
        "deletable": false,
        "editable": false,
        "nbgrader": {
          "checksum": "bd28c5f0f98856b65b84a299652ef192",
          "grade": true,
          "grade_id": "cell-74b7a121ff3db201",
          "locked": true,
          "points": 1,
          "schema_version": 1,
          "solution": false
        },
        "id": "pAaHBazJUWTI",
        "colab_type": "code",
        "colab": {}
      },
      "cell_type": "code",
      "source": [
        "####################################INTENTIONALLY BLANK FOR TESTING####################################"
      ],
      "execution_count": 0,
      "outputs": []
    },
    {
      "metadata": {
        "deletable": false,
        "nbgrader": {
          "checksum": "56a6e18dcc66cfbd014f4803f4122c88",
          "grade": false,
          "grade_id": "cell-d863e2f2d4249bf5",
          "locked": false,
          "schema_version": 1,
          "solution": true
        },
        "id": "LN2cR6BUUWTQ",
        "colab_type": "code",
        "colab": {}
      },
      "cell_type": "code",
      "source": [
        "def joining_words(words_list):\n",
        "    array=str()\n",
        "    for i in words_list:\n",
        "        array+=i\n",
        "    print(array)\n",
        "words_list=['hello','lina','and','sydney','&','lovellymonkey']    \n",
        "joining_words(words_list)"
      ],
      "execution_count": 0,
      "outputs": []
    },
    {
      "metadata": {
        "deletable": false,
        "editable": false,
        "nbgrader": {
          "checksum": "e53adddc1e1b2d806470c77575dfc3e0",
          "grade": true,
          "grade_id": "cell-90e51adc0dd03ef2",
          "locked": true,
          "points": 1,
          "schema_version": 1,
          "solution": false
        },
        "id": "yDzfbZo9UWTY",
        "colab_type": "code",
        "colab": {}
      },
      "cell_type": "code",
      "source": [
        "####################################INTENTIONALLY BLANK FOR TESTING####################################"
      ],
      "execution_count": 0,
      "outputs": []
    },
    {
      "metadata": {
        "deletable": false,
        "nbgrader": {
          "checksum": "e970e76ec170fee09810ebab908e66c6",
          "grade": false,
          "grade_id": "cell-0dc43ab4c3d5f7ad",
          "locked": false,
          "schema_version": 1,
          "solution": true
        },
        "id": "Gc3GDvv8UWTh",
        "colab_type": "code",
        "colab": {}
      },
      "cell_type": "code",
      "source": [
        "def averrage(number_list):\n",
        "    Sum=0\n",
        "    Len=len(number_list)\n",
        "    for i in number_list:\n",
        "        Sum+=i\n",
        "    print(Sum/Len) \n",
        "number_list=[1,2,3,4,7,8]\n",
        "averrage(number_list)  "
      ],
      "execution_count": 0,
      "outputs": []
    },
    {
      "metadata": {
        "deletable": false,
        "editable": false,
        "nbgrader": {
          "checksum": "e9ed4c6816f63b20696a3585e58c54cf",
          "grade": true,
          "grade_id": "cell-f76c7deec802d188",
          "locked": true,
          "points": 1,
          "schema_version": 1,
          "solution": false
        },
        "id": "I_gObssdUWTo",
        "colab_type": "code",
        "colab": {}
      },
      "cell_type": "code",
      "source": [
        "####################################INTENTIONALLY BLANK FOR TESTING####################################"
      ],
      "execution_count": 0,
      "outputs": []
    },
    {
      "metadata": {
        "deletable": false,
        "editable": false,
        "nbgrader": {
          "checksum": "f577792e4f1c0487f8891da86415371a",
          "grade": false,
          "grade_id": "cell-bb3f2cb68d0a896b",
          "locked": true,
          "schema_version": 1,
          "solution": false
        },
        "id": "ahngtlt7UWTv",
        "colab_type": "text"
      },
      "cell_type": "markdown",
      "source": [
        "### Data Structures\n",
        "\n",
        "You should be able to solve these problems using Python lists and dictionaries. Some of these problems could be solved with Python sets (a more advanced data type). If you've learned about sets, you may use them as well."
      ]
    },
    {
      "metadata": {
        "deletable": false,
        "nbgrader": {
          "checksum": "89e0652be7bfc727ba60a164a91965d1",
          "grade": false,
          "grade_id": "cell-6e4a2a83e1dfcdf7",
          "locked": false,
          "schema_version": 1,
          "solution": true
        },
        "id": "1AerJl6hUWTz",
        "colab_type": "code",
        "colab": {}
      },
      "cell_type": "code",
      "source": [
        "string1='hello friends hello familly like friends and familly and friends'\n",
        "def count_unique(string1):\n",
        "    my_dict={}\n",
        "    my_list=string1.split()\n",
        "    for word1 in my_list:\n",
        "        Number=0\n",
        "        for word2 in my_list:\n",
        "            if(word1==word2):\n",
        "                Number+=1\n",
        "            my_dict[word1]=Number\n",
        "    return my_dict         "
      ],
      "execution_count": 0,
      "outputs": []
    },
    {
      "metadata": {
        "deletable": false,
        "editable": false,
        "nbgrader": {
          "checksum": "016de5bc7bbe876a00c6055476e54963",
          "grade": true,
          "grade_id": "cell-f0818786517aa930",
          "locked": true,
          "points": 1,
          "schema_version": 1,
          "solution": false
        },
        "id": "inEJCOHNUWT6",
        "colab_type": "code",
        "outputId": "962e27cf-0dae-4b93-9538-e577111bfa8f",
        "colab": {
          "base_uri": "https://localhost:8080/",
          "height": 34
        }
      },
      "cell_type": "code",
      "source": [
        "count_unique(string1)"
      ],
      "execution_count": 0,
      "outputs": [
        {
          "output_type": "execute_result",
          "data": {
            "text/plain": [
              "{'and': 2, 'familly': 2, 'friends': 3, 'hello': 2, 'like': 1}"
            ]
          },
          "metadata": {
            "tags": []
          },
          "execution_count": 22
        }
      ]
    },
    {
      "metadata": {
        "deletable": false,
        "nbgrader": {
          "checksum": "8557c388190a979275333f699246769c",
          "grade": false,
          "grade_id": "cell-de588784c35973c2",
          "locked": false,
          "schema_version": 1,
          "solution": true
        },
        "id": "As-LYluWUWUH",
        "colab_type": "code",
        "colab": {}
      },
      "cell_type": "code",
      "source": [
        "list1=[1,2,2,4]\n",
        "list2=[4,2,1,1]\n",
        "def common_items(list1, list2):\n",
        "    \"\"\"Produce the set of common items in two lists.\n",
        "    \n",
        "    Given two lists, return a list of the common items shared between \n",
        "    the lists.\n",
        "\n",
        "    IMPORTANT: you may not use 'if ___ in ___' or the method 'index'.\n",
        "    \n",
        "    For example:\n",
        "        >>> sorted(common_items([1, 2, 3, 4], [1, 2]))\n",
        "        [1, 2]\n",
        "    If an item appears more than once in both lists, return it each\n",
        "    time:\n",
        "        >>> sorted(common_items([1, 2, 3, 4], [1, 1, 2, 2]))\n",
        "        [1, 1, 2, 2]\n",
        "    (And the order of which has the multiples shouldn't matter, either):\n",
        "        >>> sorted(common_items([1, 1, 2, 2], [1, 2, 3, 4]))\n",
        "        [1, 1, 2, 2]\n",
        "    \"\"\"\n",
        "    common_list=[]\n",
        "    for n in list1:\n",
        "      for j in list2:\n",
        "         if n==j:\n",
        "          common_list.append(n)\n",
        "    return common_list      \n"
      ],
      "execution_count": 0,
      "outputs": []
    },
    {
      "metadata": {
        "deletable": false,
        "editable": false,
        "nbgrader": {
          "checksum": "6a2ea1a86b5219c099427146f930d5ec",
          "grade": true,
          "grade_id": "cell-af602b7c95f3425b",
          "locked": true,
          "points": 1,
          "schema_version": 1,
          "solution": false
        },
        "id": "7Sr9wgBbUWUN",
        "colab_type": "code",
        "outputId": "5365229b-25ab-44f0-f1b8-42e29966664a",
        "colab": {
          "base_uri": "https://localhost:8080/",
          "height": 34
        }
      },
      "cell_type": "code",
      "source": [
        "common_items(list1, list2)"
      ],
      "execution_count": 0,
      "outputs": [
        {
          "output_type": "execute_result",
          "data": {
            "text/plain": [
              "[1, 1, 2, 2, 4]"
            ]
          },
          "metadata": {
            "tags": []
          },
          "execution_count": 25
        }
      ]
    },
    {
      "metadata": {
        "deletable": false,
        "nbgrader": {
          "checksum": "1c39f2568e8412943470386db1c9c8c3",
          "grade": false,
          "grade_id": "cell-1b237658152ec6c1",
          "locked": false,
          "schema_version": 1,
          "solution": true
        },
        "id": "_Y2kcdS-UWUa",
        "colab_type": "code",
        "colab": {}
      },
      "cell_type": "code",
      "source": [
        "list1=[1,2,3,4]\n",
        "list2=[1,1,2,4]\n",
        "def unique_items(list1, list2):\n",
        "    \"\"\"Produce the set of *unique* common items in two lists.\n",
        "\n",
        "    Given two lists, return a list of the *unique* common items shared between \n",
        "    the lists.\n",
        "\n",
        "    IMPORTANT: you may not use 'if ___ in ___' or the method 'index'.\n",
        "\n",
        "    Just like `common_items`, this should find [1, 2]:\n",
        "        >>> sorted(unique_common_items([1, 2, 3, 4], [1, 2]))\n",
        "        [1, 2]\n",
        "\n",
        "    However, now we only want unique items, so for these lists, don't show \n",
        "    more than 1 or 2 once:\n",
        "\n",
        "        >>> sorted(unique_common_items([1, 2, 3, 4], [1, 1, 2, 2]))\n",
        "        [1, 2]\n",
        "    \n",
        "   \"\"\"\n",
        "    unique_item=[]\n",
        "    for word1 in list1:\n",
        "      for word2 in list2:\n",
        "        if word1==word2:\n",
        "          unique_item.append(word1)\n",
        "          break\n",
        "    return unique_item     "
      ],
      "execution_count": 0,
      "outputs": []
    },
    {
      "metadata": {
        "deletable": false,
        "editable": false,
        "nbgrader": {
          "checksum": "ddd2c7d380f9451f1819107f13a63406",
          "grade": true,
          "grade_id": "cell-42da43b784e498f2",
          "locked": true,
          "points": 1,
          "schema_version": 1,
          "solution": false
        },
        "id": "SCdm14uIUWUj",
        "colab_type": "code",
        "outputId": "b36a53ba-6016-4685-8a14-63dec58dd37d",
        "colab": {
          "base_uri": "https://localhost:8080/",
          "height": 34
        }
      },
      "cell_type": "code",
      "source": [
        "unique_items(list1, list2)"
      ],
      "execution_count": 0,
      "outputs": [
        {
          "output_type": "execute_result",
          "data": {
            "text/plain": [
              "[1, 2, 4]"
            ]
          },
          "metadata": {
            "tags": []
          },
          "execution_count": 28
        }
      ]
    },
    {
      "metadata": {
        "deletable": false,
        "nbgrader": {
          "checksum": "c34eb45f44a310acb11950c95d2eb8fd",
          "grade": false,
          "grade_id": "cell-b8dcbf0bc0af08c2",
          "locked": false,
          "schema_version": 1,
          "solution": true
        },
        "id": "qrIyYUTiUWUq",
        "colab_type": "code",
        "colab": {}
      },
      "cell_type": "code",
      "source": [
        "list1=[1,2,3,-1,-2,4,0,5,0]\n",
        "def sum_zero(list1):\n",
        "    \"\"\"Return set of x,y number pair lists from a list where x+y==0\n",
        "    Given a list of numbers, add up each individual pair of numbers.\n",
        "    Return a set of each pair of numbers that adds up to 0, where the smaller\n",
        "    value is the first in the pair.\n",
        "        \n",
        "    For example:\n",
        "        >>> sorted(sum_zero([1, 2, 3, -2, -1]) )\n",
        "        [[-2, 2], [-1, 1]]\n",
        "    \n",
        "    This should always be a unique list, even if there are\n",
        "    duplicates in the input list:\n",
        "    \n",
        "        >>> sorted( sum_zero([1, 2, 3, -2, -1, 1, 1]) )\n",
        "        [[-2, 2], [-1, 1]]\n",
        "    \n",
        "    Of course, if there are one or more zeros to pair together, \n",
        "    that's fine, too:\n",
        "        >>> sorted(sum_zero([1, 2, 3, -2, -1, 1, 0, 1, 0]) )\n",
        "        [[-2, 2], [-1, 1], [0, 0]]\n",
        "    \"\"\"\n",
        "    list2=[]\n",
        "    for number1 in list1:\n",
        "      for number2 in list1:\n",
        "        if ((number1+number2)==0):\n",
        "          list2.append(f'[{number1},{number2}]')\n",
        "          break\n",
        "    return list2     \n"
      ],
      "execution_count": 0,
      "outputs": []
    },
    {
      "metadata": {
        "deletable": false,
        "editable": false,
        "nbgrader": {
          "checksum": "ad93506362f3d0151e53d8cba68035e4",
          "grade": true,
          "grade_id": "cell-85063429a77205b6",
          "locked": true,
          "points": 1,
          "schema_version": 1,
          "solution": false
        },
        "id": "QfOX-yx0UWUw",
        "colab_type": "code",
        "outputId": "619393e9-8659-4983-8e30-64858245a6c3",
        "colab": {
          "base_uri": "https://localhost:8080/",
          "height": 34
        }
      },
      "cell_type": "code",
      "source": [
        "sum_zero(list1)"
      ],
      "execution_count": 0,
      "outputs": [
        {
          "output_type": "execute_result",
          "data": {
            "text/plain": [
              "['[1,-1]', '[2,-2]', '[-1,1]', '[-2,2]', '[0,0]', '[0,0]']"
            ]
          },
          "metadata": {
            "tags": []
          },
          "execution_count": 33
        }
      ]
    },
    {
      "metadata": {
        "deletable": false,
        "nbgrader": {
          "checksum": "67d730e1c20319a0139788d7653d9d30",
          "grade": false,
          "grade_id": "cell-c67204ecbed8311a",
          "locked": false,
          "schema_version": 1,
          "solution": true
        },
        "id": "gPvy-cGtUWU6",
        "colab_type": "code",
        "colab": {}
      },
      "cell_type": "code",
      "source": [
        "def find_duplicates(words):\n",
        "    \"\"\"Given a list of words, return the list with duplicates removed.\n",
        "    \n",
        "    For example:\n",
        "        >>> sorted(find_duplicates(\n",
        "        ...     [\"rose\", \"is\", \"a\", \"rose\", \"is\", \"a\", \"rose\"]))\n",
        "        ['a', 'is', 'rose']\n",
        "    \n",
        "    You should treat differently-capitalized words as different:\n",
        "        >>> sorted(find_duplicates(\n",
        "        ...     [\"Rose\", \"is\", \"a\", \"rose\", \"is\", \"a\", \"rose\"]))\n",
        "        ['Rose', 'a', 'is', 'rose']\n",
        "    \"\"\"\n",
        "# YOUR CODE HERE\n",
        "raise NotImplementedError()"
      ],
      "execution_count": 0,
      "outputs": []
    },
    {
      "metadata": {
        "deletable": false,
        "editable": false,
        "nbgrader": {
          "checksum": "e1167dcdabeb7fd4363944e4a26d1768",
          "grade": true,
          "grade_id": "cell-4838d1b78d150602",
          "locked": true,
          "points": 1,
          "schema_version": 1,
          "solution": false
        },
        "id": "bWPuRTtHUWVB",
        "colab_type": "code",
        "colab": {}
      },
      "cell_type": "code",
      "source": [
        "####################################INTENTIONALLY BLANK FOR TESTING####################################"
      ],
      "execution_count": 0,
      "outputs": []
    },
    {
      "metadata": {
        "deletable": false,
        "nbgrader": {
          "checksum": "40c628af3b64ee8475e28dbc5ed0b6af",
          "grade": false,
          "grade_id": "cell-d9b3147e6db58779",
          "locked": false,
          "schema_version": 1,
          "solution": true
        },
        "id": "g-T7pTrOUWVG",
        "colab_type": "code",
        "colab": {}
      },
      "cell_type": "code",
      "source": [
        "def word_length(words):\n",
        "    \"\"\"Given list of words, return list of ascending [(len, [words])].\n",
        "    Given a list of words, return a list of tuples, ordered by word-length.\n",
        "    Each tuple should have two items--the length of the words for that \n",
        "    word-length, and the list of words of that word length. Sort the \n",
        "    dictionary by shortest length to longest length words.\n",
        "    \n",
        "    For example:\n",
        "        >>> word_length([\"ok\", \"an\", \"apple\", \"a\", \"day\"])\n",
        "        [(1, ['a']), (2, ['ok', 'an']), (3, ['day']), (5, ['apple'])]\n",
        "\n",
        "    \"\"\"\n",
        "\n",
        "# YOUR CODE HERE\n",
        "raise NotImplementedError()"
      ],
      "execution_count": 0,
      "outputs": []
    },
    {
      "metadata": {
        "deletable": false,
        "editable": false,
        "nbgrader": {
          "checksum": "a70c60404d275141a03e3fa011e7b704",
          "grade": true,
          "grade_id": "cell-044d288559318786",
          "locked": true,
          "points": 1,
          "schema_version": 1,
          "solution": false
        },
        "id": "I87XwDrmUWVM",
        "colab_type": "code",
        "colab": {}
      },
      "cell_type": "code",
      "source": [
        "####################################INTENTIONALLY BLANK FOR TESTING####################################"
      ],
      "execution_count": 0,
      "outputs": []
    },
    {
      "metadata": {
        "deletable": false,
        "nbgrader": {
          "checksum": "059ab7ec22ee478707bbc4a9ad1136b0",
          "grade": false,
          "grade_id": "cell-aa16264440491cda",
          "locked": false,
          "schema_version": 1,
          "solution": true
        },
        "id": "Al5tuG6tUWVU",
        "colab_type": "code",
        "colab": {}
      },
      "cell_type": "code",
      "source": [
        "def adv_word_length_sorted_words(words):\n",
        "    \"\"\"Given list of words, return list of ascending [(len, [sorted-words])].\n",
        "    \n",
        "    Given a list of words, return a list of tuples, ordered by word-length.\n",
        "    Each tuple should have two items--the length of the words for that \n",
        "    word-length, and the list of words of that word length. The list of words\n",
        "    for that length should be sorted alphabetically.\n",
        "    \n",
        "    For example:\n",
        "        >>> adv_word_length_sorted_words([\"ok\", \"an\", \"apple\", \"a\", \"day\"])\n",
        "        [(1, ['a']), (2, ['an', 'ok']), (3, ['day']), (5, ['apple'])]\n",
        "    \"\"\"\n",
        "\n",
        "# YOUR CODE HERE\n",
        "raise NotImplementedError()"
      ],
      "execution_count": 0,
      "outputs": []
    },
    {
      "metadata": {
        "deletable": false,
        "editable": false,
        "nbgrader": {
          "checksum": "7b80f039a34748e7a173eddeea1dd0fc",
          "grade": true,
          "grade_id": "cell-8ab8055da8a9a4d6",
          "locked": true,
          "points": 1,
          "schema_version": 1,
          "solution": false
        },
        "id": "6qqSnVXHUWVa",
        "colab_type": "code",
        "colab": {}
      },
      "cell_type": "code",
      "source": [
        "####################################INTENTIONALLY BLANK FOR TESTING####################################"
      ],
      "execution_count": 0,
      "outputs": []
    },
    {
      "metadata": {
        "deletable": false,
        "nbgrader": {
          "checksum": "3b316d43059ffb17c2619f33815893c3",
          "grade": false,
          "grade_id": "cell-927da46837cffc7b",
          "locked": false,
          "schema_version": 1,
          "solution": true
        },
        "id": "eckWt1vfUWVi",
        "colab_type": "code",
        "colab": {}
      },
      "cell_type": "code",
      "source": [
        "def pirate_talk(phrase):\n",
        "    \"\"\"Translate phrase to pirate talk.\n",
        "    \n",
        "    Given a phrase, translate each word to the Pirate-speak equivalent.\n",
        "    Words that cannot be translated into Pirate-speak should pass through\n",
        "    unchanged. Return the resulting sentence.\n",
        "   \n",
        "    Here's a table of English to Pirate translations:\n",
        "    English     Pirate\n",
        "    ----------  ----------------\n",
        "    sir         matey\n",
        "    hotel       fleabag inn\n",
        "    student     swabbie\n",
        "    boy         matey\n",
        "    madam       proud beauty\n",
        "    professor   foul blaggart\n",
        "    restaurant  galley\n",
        "    your        yer\n",
        "    excuse      arr\n",
        "    students    swabbies\n",
        "    are         be\n",
        "    lawyer      foul blaggart\n",
        "    the         th'\n",
        "    restroom    head\n",
        "    my          me\n",
        "    hello       avast\n",
        "    is          be\n",
        "    man         matey\n",
        "    \n",
        "    For example:\n",
        "        >>> pirate_talk(\"my student is not a man\")\n",
        "        'me swabbie be not a matey'\n",
        "    \n",
        "    You should treat words with punctuation as if they were different\n",
        "    words:\n",
        "        >>> pirate_talk(\"my student is not a man!\")\n",
        "        'me swabbie be not a man!'\n",
        "    \"\"\"\n",
        "# YOUR CODE HERE\n",
        "raise NotImplementedError()"
      ],
      "execution_count": 0,
      "outputs": []
    },
    {
      "metadata": {
        "deletable": false,
        "editable": false,
        "nbgrader": {
          "checksum": "c4d82015f0ba58353ed1b76b371f3a06",
          "grade": true,
          "grade_id": "cell-cf29f5e4edbcc701",
          "locked": true,
          "points": 1,
          "schema_version": 1,
          "solution": false
        },
        "id": "ggPq-hqtUWVp",
        "colab_type": "code",
        "colab": {}
      },
      "cell_type": "code",
      "source": [
        "####################################INTENTIONALLY BLANK FOR TESTING####################################"
      ],
      "execution_count": 0,
      "outputs": []
    }
  ]
}